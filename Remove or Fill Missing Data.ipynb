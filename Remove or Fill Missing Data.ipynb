{
 "cells": [
  {
   "cell_type": "code",
   "execution_count": 1,
   "metadata": {},
   "outputs": [],
   "source": [
    "# Import libraries\n",
    "\n",
    "import pandas as pd\n",
    "import numpy as np"
   ]
  },
  {
   "cell_type": "code",
   "execution_count": 2,
   "metadata": {},
   "outputs": [],
   "source": [
    "# Load Excel File\n",
    "\n",
    "filename = 'data/car_financing.xlsx'\n",
    "df = pd.read_excel(filename)"
   ]
  },
  {
   "cell_type": "code",
   "execution_count": 3,
   "metadata": {},
   "outputs": [],
   "source": [
    "## Filtering\n",
    "\n",
    "car_filter = df['car_type']=='Toyota Sienna'\n",
    "interest_filter = df['interest_rate']==0.0702\n",
    "df = df.loc[car_filter & interest_filter, :]"
   ]
  },
  {
   "cell_type": "code",
   "execution_count": 4,
   "metadata": {},
   "outputs": [],
   "source": [
    "# Approach 1 dictionary substitution using rename method\n",
    "\n",
    "df = df.rename(columns={'Starting Balance': 'starting_balance',\n",
    "                        'Interest Paid': 'interest_paid', \n",
    "                        'Principal Paid': 'principal_paid',\n",
    "                        'New Balance': 'new_balance'})"
   ]
  },
  {
   "cell_type": "code",
   "execution_count": 5,
   "metadata": {},
   "outputs": [],
   "source": [
    "# Approach 2 list replacement\n",
    "# Only changing Month -> month, but we need to list the rest of the columns\n",
    "\n",
    "df.columns = ['month',\n",
    "              'starting_balance',\n",
    "              'Repayment',\n",
    "              'interest_paid',\n",
    "              'principal_paid',\n",
    "              'new_balance',\n",
    "              'term',\n",
    "              'interest_rate',\n",
    "              'car_type']"
   ]
  },
  {
   "cell_type": "code",
   "execution_count": 6,
   "metadata": {},
   "outputs": [],
   "source": [
    "# Approach 1\n",
    "# This approach allows you to drop multiple columns at a time\n",
    "\n",
    "df = df.drop(columns=['term'])"
   ]
  },
  {
   "cell_type": "code",
   "execution_count": 7,
   "metadata": {},
   "outputs": [],
   "source": [
    "# Approach 2 use the del command\n",
    "\n",
    "del df['Repayment']"
   ]
  },
  {
   "cell_type": "code",
   "execution_count": 8,
   "metadata": {},
   "outputs": [
    {
     "data": {
      "text/plain": [
       "(60, 7)"
      ]
     },
     "execution_count": 8,
     "metadata": {},
     "output_type": "execute_result"
    }
   ],
   "source": [
    "df.shape"
   ]
  },
  {
   "cell_type": "markdown",
   "metadata": {},
   "source": [
    "## Removing or Filling in Missing Data\n",
    "This is an important subject as before you can graph data, you should make sure you aren't trying to graph some missing values as that can cause an error or misinterpretation of the data. "
   ]
  },
  {
   "cell_type": "code",
   "execution_count": 9,
   "metadata": {},
   "outputs": [
    {
     "name": "stdout",
     "output_type": "stream",
     "text": [
      "<class 'pandas.core.frame.DataFrame'>\n",
      "Int64Index: 60 entries, 0 to 59\n",
      "Data columns (total 7 columns):\n",
      " #   Column            Non-Null Count  Dtype  \n",
      "---  ------            --------------  -----  \n",
      " 0   month             60 non-null     int64  \n",
      " 1   starting_balance  60 non-null     float64\n",
      " 2   interest_paid     59 non-null     float64\n",
      " 3   principal_paid    60 non-null     float64\n",
      " 4   new_balance       60 non-null     float64\n",
      " 5   interest_rate     60 non-null     float64\n",
      " 6   car_type          60 non-null     object \n",
      "dtypes: float64(5), int64(1), object(1)\n",
      "memory usage: 3.8+ KB\n"
     ]
    }
   ],
   "source": [
    "df.info()"
   ]
  },
  {
   "cell_type": "markdown",
   "metadata": {},
   "source": [
    "### Remove Missing Values\n",
    "You can remove missing values by using the `dropna` method. "
   ]
  },
  {
   "cell_type": "code",
   "execution_count": 10,
   "metadata": {
    "scrolled": true
   },
   "outputs": [
    {
     "data": {
      "text/html": [
       "<div>\n",
       "<style scoped>\n",
       "    .dataframe tbody tr th:only-of-type {\n",
       "        vertical-align: middle;\n",
       "    }\n",
       "\n",
       "    .dataframe tbody tr th {\n",
       "        vertical-align: top;\n",
       "    }\n",
       "\n",
       "    .dataframe thead th {\n",
       "        text-align: right;\n",
       "    }\n",
       "</style>\n",
       "<table border=\"1\" class=\"dataframe\">\n",
       "  <thead>\n",
       "    <tr style=\"text-align: right;\">\n",
       "      <th></th>\n",
       "      <th>month</th>\n",
       "      <th>starting_balance</th>\n",
       "      <th>interest_paid</th>\n",
       "      <th>principal_paid</th>\n",
       "      <th>new_balance</th>\n",
       "      <th>interest_rate</th>\n",
       "      <th>car_type</th>\n",
       "    </tr>\n",
       "  </thead>\n",
       "  <tbody>\n",
       "    <tr>\n",
       "      <th>30</th>\n",
       "      <td>31</td>\n",
       "      <td>18858.57</td>\n",
       "      <td>110.32</td>\n",
       "      <td>576.91</td>\n",
       "      <td>18281.66</td>\n",
       "      <td>0.0702</td>\n",
       "      <td>Toyota Sienna</td>\n",
       "    </tr>\n",
       "    <tr>\n",
       "      <th>31</th>\n",
       "      <td>32</td>\n",
       "      <td>18281.66</td>\n",
       "      <td>106.94</td>\n",
       "      <td>580.29</td>\n",
       "      <td>17701.37</td>\n",
       "      <td>0.0702</td>\n",
       "      <td>Toyota Sienna</td>\n",
       "    </tr>\n",
       "    <tr>\n",
       "      <th>32</th>\n",
       "      <td>33</td>\n",
       "      <td>17701.37</td>\n",
       "      <td>103.55</td>\n",
       "      <td>583.68</td>\n",
       "      <td>17117.69</td>\n",
       "      <td>0.0702</td>\n",
       "      <td>Toyota Sienna</td>\n",
       "    </tr>\n",
       "    <tr>\n",
       "      <th>33</th>\n",
       "      <td>34</td>\n",
       "      <td>17117.69</td>\n",
       "      <td>100.13</td>\n",
       "      <td>587.10</td>\n",
       "      <td>16530.59</td>\n",
       "      <td>0.0702</td>\n",
       "      <td>Toyota Sienna</td>\n",
       "    </tr>\n",
       "    <tr>\n",
       "      <th>34</th>\n",
       "      <td>35</td>\n",
       "      <td>16530.59</td>\n",
       "      <td>96.70</td>\n",
       "      <td>590.53</td>\n",
       "      <td>15940.06</td>\n",
       "      <td>0.0702</td>\n",
       "      <td>Toyota Sienna</td>\n",
       "    </tr>\n",
       "    <tr>\n",
       "      <th>36</th>\n",
       "      <td>37</td>\n",
       "      <td>15346.07</td>\n",
       "      <td>89.77</td>\n",
       "      <td>597.46</td>\n",
       "      <td>14748.61</td>\n",
       "      <td>0.0702</td>\n",
       "      <td>Toyota Sienna</td>\n",
       "    </tr>\n",
       "    <tr>\n",
       "      <th>37</th>\n",
       "      <td>38</td>\n",
       "      <td>14748.61</td>\n",
       "      <td>86.27</td>\n",
       "      <td>600.96</td>\n",
       "      <td>14147.65</td>\n",
       "      <td>0.0702</td>\n",
       "      <td>Toyota Sienna</td>\n",
       "    </tr>\n",
       "    <tr>\n",
       "      <th>38</th>\n",
       "      <td>39</td>\n",
       "      <td>14147.65</td>\n",
       "      <td>82.76</td>\n",
       "      <td>604.47</td>\n",
       "      <td>13543.18</td>\n",
       "      <td>0.0702</td>\n",
       "      <td>Toyota Sienna</td>\n",
       "    </tr>\n",
       "    <tr>\n",
       "      <th>39</th>\n",
       "      <td>40</td>\n",
       "      <td>13543.18</td>\n",
       "      <td>79.22</td>\n",
       "      <td>608.01</td>\n",
       "      <td>12935.17</td>\n",
       "      <td>0.0702</td>\n",
       "      <td>Toyota Sienna</td>\n",
       "    </tr>\n",
       "  </tbody>\n",
       "</table>\n",
       "</div>"
      ],
      "text/plain": [
       "    month  starting_balance  interest_paid  principal_paid  new_balance  \\\n",
       "30     31          18858.57         110.32          576.91     18281.66   \n",
       "31     32          18281.66         106.94          580.29     17701.37   \n",
       "32     33          17701.37         103.55          583.68     17117.69   \n",
       "33     34          17117.69         100.13          587.10     16530.59   \n",
       "34     35          16530.59          96.70          590.53     15940.06   \n",
       "36     37          15346.07          89.77          597.46     14748.61   \n",
       "37     38          14748.61          86.27          600.96     14147.65   \n",
       "38     39          14147.65          82.76          604.47     13543.18   \n",
       "39     40          13543.18          79.22          608.01     12935.17   \n",
       "\n",
       "    interest_rate       car_type  \n",
       "30         0.0702  Toyota Sienna  \n",
       "31         0.0702  Toyota Sienna  \n",
       "32         0.0702  Toyota Sienna  \n",
       "33         0.0702  Toyota Sienna  \n",
       "34         0.0702  Toyota Sienna  \n",
       "36         0.0702  Toyota Sienna  \n",
       "37         0.0702  Toyota Sienna  \n",
       "38         0.0702  Toyota Sienna  \n",
       "39         0.0702  Toyota Sienna  "
      ]
     },
     "execution_count": 10,
     "metadata": {},
     "output_type": "execute_result"
    }
   ],
   "source": [
    "# You can drop entire rows if they contain 'any' nans in them or 'all'\n",
    "# this may not be the best strategy for our dataset\n",
    "\n",
    "df[30:40].dropna(how = 'any')"
   ]
  },
  {
   "cell_type": "markdown",
   "metadata": {},
   "source": [
    "### Filling in Missing Values\n",
    "There are a [variety of ways to fill in missing values](https://pandas.pydata.org/pandas-docs/stable/user_guide/missing_data.html). "
   ]
  },
  {
   "cell_type": "code",
   "execution_count": 11,
   "metadata": {},
   "outputs": [
    {
     "data": {
      "text/plain": [
       "30    110.32\n",
       "31    106.94\n",
       "32    103.55\n",
       "33    100.13\n",
       "34     96.70\n",
       "35       NaN\n",
       "36     89.77\n",
       "37     86.27\n",
       "38     82.76\n",
       "39     79.22\n",
       "Name: interest_paid, dtype: float64"
      ]
     },
     "execution_count": 11,
     "metadata": {},
     "output_type": "execute_result"
    }
   ],
   "source": [
    "# Looking at where missing data is located\n",
    "\n",
    "df['interest_paid'][30:40]"
   ]
  },
  {
   "cell_type": "code",
   "execution_count": 12,
   "metadata": {},
   "outputs": [
    {
     "data": {
      "text/plain": [
       "30    110.32\n",
       "31    106.94\n",
       "32    103.55\n",
       "33    100.13\n",
       "34     96.70\n",
       "35      0.00\n",
       "36     89.77\n",
       "37     86.27\n",
       "38     82.76\n",
       "39     79.22\n",
       "Name: interest_paid, dtype: float64"
      ]
     },
     "execution_count": 12,
     "metadata": {},
     "output_type": "execute_result"
    }
   ],
   "source": [
    "# Filling in the nan with a zero is probably a bad idea. \n",
    "\n",
    "df['interest_paid'][30:40].fillna(0)"
   ]
  },
  {
   "cell_type": "code",
   "execution_count": 13,
   "metadata": {},
   "outputs": [
    {
     "data": {
      "text/plain": [
       "30    110.32\n",
       "31    106.94\n",
       "32    103.55\n",
       "33    100.13\n",
       "34     96.70\n",
       "35     89.77\n",
       "36     89.77\n",
       "37     86.27\n",
       "38     82.76\n",
       "39     79.22\n",
       "Name: interest_paid, dtype: float64"
      ]
     },
     "execution_count": 13,
     "metadata": {},
     "output_type": "execute_result"
    }
   ],
   "source": [
    "# back fill in value\n",
    "\n",
    "df['interest_paid'][30:40].fillna(method='bfill')"
   ]
  },
  {
   "cell_type": "code",
   "execution_count": 14,
   "metadata": {},
   "outputs": [
    {
     "data": {
      "text/plain": [
       "30    110.32\n",
       "31    106.94\n",
       "32    103.55\n",
       "33    100.13\n",
       "34     96.70\n",
       "35     96.70\n",
       "36     89.77\n",
       "37     86.27\n",
       "38     82.76\n",
       "39     79.22\n",
       "Name: interest_paid, dtype: float64"
      ]
     },
     "execution_count": 14,
     "metadata": {},
     "output_type": "execute_result"
    }
   ],
   "source": [
    "# forward fill in value\n",
    "\n",
    "df['interest_paid'][30:40].fillna(method='ffill')"
   ]
  },
  {
   "cell_type": "code",
   "execution_count": 15,
   "metadata": {},
   "outputs": [
    {
     "data": {
      "text/plain": [
       "30    110.320\n",
       "31    106.940\n",
       "32    103.550\n",
       "33    100.130\n",
       "34     96.700\n",
       "35     93.235\n",
       "36     89.770\n",
       "37     86.270\n",
       "38     82.760\n",
       "39     79.220\n",
       "Name: interest_paid, dtype: float64"
      ]
     },
     "execution_count": 15,
     "metadata": {},
     "output_type": "execute_result"
    }
   ],
   "source": [
    "# linear interpolation (filling in of values)\n",
    "\n",
    "df['interest_paid'][30:40].interpolate(method = 'linear')"
   ]
  },
  {
   "cell_type": "code",
   "execution_count": 16,
   "metadata": {},
   "outputs": [
    {
     "data": {
      "text/plain": [
       "6450.2699999999995"
      ]
     },
     "execution_count": 16,
     "metadata": {},
     "output_type": "execute_result"
    }
   ],
   "source": [
    "# Interest paid before filling in the nan with a value\n",
    "\n",
    "df['interest_paid'].sum()"
   ]
  },
  {
   "cell_type": "code",
   "execution_count": 17,
   "metadata": {},
   "outputs": [],
   "source": [
    "# Fill in with the actual value\n",
    "\n",
    "interest_missing = df['interest_paid'].isna()\n",
    "df.loc[interest_missing,'interest_paid'] = 93.24"
   ]
  },
  {
   "cell_type": "code",
   "execution_count": 18,
   "metadata": {},
   "outputs": [
    {
     "data": {
      "text/plain": [
       "6543.509999999999"
      ]
     },
     "execution_count": 18,
     "metadata": {},
     "output_type": "execute_result"
    }
   ],
   "source": [
    "# Interest paid after filling in the nan with a value\n",
    "\n",
    "df['interest_paid'].sum()"
   ]
  },
  {
   "cell_type": "code",
   "execution_count": 19,
   "metadata": {},
   "outputs": [
    {
     "name": "stdout",
     "output_type": "stream",
     "text": [
      "<class 'pandas.core.frame.DataFrame'>\n",
      "Int64Index: 60 entries, 0 to 59\n",
      "Data columns (total 7 columns):\n",
      " #   Column            Non-Null Count  Dtype  \n",
      "---  ------            --------------  -----  \n",
      " 0   month             60 non-null     int64  \n",
      " 1   starting_balance  60 non-null     float64\n",
      " 2   interest_paid     60 non-null     float64\n",
      " 3   principal_paid    60 non-null     float64\n",
      " 4   new_balance       60 non-null     float64\n",
      " 5   interest_rate     60 non-null     float64\n",
      " 6   car_type          60 non-null     object \n",
      "dtypes: float64(5), int64(1), object(1)\n",
      "memory usage: 3.8+ KB\n"
     ]
    }
   ],
   "source": [
    "# Notice we dont have NaN values in the DataFrame anymore\n",
    "\n",
    "df.info()"
   ]
  },
  {
   "cell_type": "code",
   "execution_count": 20,
   "metadata": {},
   "outputs": [
    {
     "data": {
      "text/plain": [
       "month               0\n",
       "starting_balance    0\n",
       "interest_paid       0\n",
       "principal_paid      0\n",
       "new_balance         0\n",
       "interest_rate       0\n",
       "car_type            0\n",
       "dtype: int64"
      ]
     },
     "execution_count": 20,
     "metadata": {},
     "output_type": "execute_result"
    }
   ],
   "source": [
    "df.isnull().sum()"
   ]
  },
  {
   "cell_type": "code",
   "execution_count": null,
   "metadata": {},
   "outputs": [],
   "source": []
  }
 ],
 "metadata": {
  "anaconda-cloud": {},
  "kernelspec": {
   "display_name": "Python 3",
   "language": "python",
   "name": "python3"
  },
  "language_info": {
   "codemirror_mode": {
    "name": "ipython",
    "version": 3
   },
   "file_extension": ".py",
   "mimetype": "text/x-python",
   "name": "python",
   "nbconvert_exporter": "python",
   "pygments_lexer": "ipython3",
   "version": "3.7.6"
  }
 },
 "nbformat": 4,
 "nbformat_minor": 1
}
